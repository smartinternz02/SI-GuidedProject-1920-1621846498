{
 "cells": [
  {
   "cell_type": "code",
   "execution_count": 1,
   "metadata": {},
   "outputs": [],
   "source": [
    "import pandas as pd\n",
    "import numpy as np\n",
    "import matplotlib.pyplot as plt"
   ]
  },
  {
   "cell_type": "code",
   "execution_count": 2,
   "metadata": {},
   "outputs": [],
   "source": [
    "dataset = pd.read_csv(r'F:\\Intersnship\\python\\Datasets\\airline-passengers.csv',usecols=[1], engine='python')"
   ]
  },
  {
   "cell_type": "code",
   "execution_count": 3,
   "metadata": {},
   "outputs": [
    {
     "data": {
      "text/html": [
       "<div>\n",
       "<style scoped>\n",
       "    .dataframe tbody tr th:only-of-type {\n",
       "        vertical-align: middle;\n",
       "    }\n",
       "\n",
       "    .dataframe tbody tr th {\n",
       "        vertical-align: top;\n",
       "    }\n",
       "\n",
       "    .dataframe thead th {\n",
       "        text-align: right;\n",
       "    }\n",
       "</style>\n",
       "<table border=\"1\" class=\"dataframe\">\n",
       "  <thead>\n",
       "    <tr style=\"text-align: right;\">\n",
       "      <th></th>\n",
       "      <th>Passengers</th>\n",
       "    </tr>\n",
       "  </thead>\n",
       "  <tbody>\n",
       "    <tr>\n",
       "      <th>0</th>\n",
       "      <td>112</td>\n",
       "    </tr>\n",
       "    <tr>\n",
       "      <th>1</th>\n",
       "      <td>118</td>\n",
       "    </tr>\n",
       "    <tr>\n",
       "      <th>2</th>\n",
       "      <td>132</td>\n",
       "    </tr>\n",
       "    <tr>\n",
       "      <th>3</th>\n",
       "      <td>129</td>\n",
       "    </tr>\n",
       "    <tr>\n",
       "      <th>4</th>\n",
       "      <td>121</td>\n",
       "    </tr>\n",
       "  </tbody>\n",
       "</table>\n",
       "</div>"
      ],
      "text/plain": [
       "   Passengers\n",
       "0         112\n",
       "1         118\n",
       "2         132\n",
       "3         129\n",
       "4         121"
      ]
     },
     "execution_count": 3,
     "metadata": {},
     "output_type": "execute_result"
    }
   ],
   "source": [
    "dataset.head()"
   ]
  },
  {
   "cell_type": "code",
   "execution_count": 4,
   "metadata": {},
   "outputs": [
    {
     "data": {
      "text/html": [
       "<div>\n",
       "<style scoped>\n",
       "    .dataframe tbody tr th:only-of-type {\n",
       "        vertical-align: middle;\n",
       "    }\n",
       "\n",
       "    .dataframe tbody tr th {\n",
       "        vertical-align: top;\n",
       "    }\n",
       "\n",
       "    .dataframe thead th {\n",
       "        text-align: right;\n",
       "    }\n",
       "</style>\n",
       "<table border=\"1\" class=\"dataframe\">\n",
       "  <thead>\n",
       "    <tr style=\"text-align: right;\">\n",
       "      <th></th>\n",
       "      <th>Passengers</th>\n",
       "    </tr>\n",
       "  </thead>\n",
       "  <tbody>\n",
       "    <tr>\n",
       "      <th>0</th>\n",
       "      <td>112</td>\n",
       "    </tr>\n",
       "    <tr>\n",
       "      <th>1</th>\n",
       "      <td>118</td>\n",
       "    </tr>\n",
       "    <tr>\n",
       "      <th>2</th>\n",
       "      <td>132</td>\n",
       "    </tr>\n",
       "    <tr>\n",
       "      <th>3</th>\n",
       "      <td>129</td>\n",
       "    </tr>\n",
       "    <tr>\n",
       "      <th>4</th>\n",
       "      <td>121</td>\n",
       "    </tr>\n",
       "    <tr>\n",
       "      <th>...</th>\n",
       "      <td>...</td>\n",
       "    </tr>\n",
       "    <tr>\n",
       "      <th>139</th>\n",
       "      <td>606</td>\n",
       "    </tr>\n",
       "    <tr>\n",
       "      <th>140</th>\n",
       "      <td>508</td>\n",
       "    </tr>\n",
       "    <tr>\n",
       "      <th>141</th>\n",
       "      <td>461</td>\n",
       "    </tr>\n",
       "    <tr>\n",
       "      <th>142</th>\n",
       "      <td>390</td>\n",
       "    </tr>\n",
       "    <tr>\n",
       "      <th>143</th>\n",
       "      <td>432</td>\n",
       "    </tr>\n",
       "  </tbody>\n",
       "</table>\n",
       "<p>144 rows × 1 columns</p>\n",
       "</div>"
      ],
      "text/plain": [
       "     Passengers\n",
       "0           112\n",
       "1           118\n",
       "2           132\n",
       "3           129\n",
       "4           121\n",
       "..          ...\n",
       "139         606\n",
       "140         508\n",
       "141         461\n",
       "142         390\n",
       "143         432\n",
       "\n",
       "[144 rows x 1 columns]"
      ]
     },
     "execution_count": 4,
     "metadata": {},
     "output_type": "execute_result"
    }
   ],
   "source": [
    "dataset"
   ]
  },
  {
   "cell_type": "code",
   "execution_count": 5,
   "metadata": {},
   "outputs": [
    {
     "data": {
      "image/png": "[encoded data removed]",
      "text/plain": [
       "<Figure size 432x288 with 1 Axes>"
      ]
     },
     "metadata": {
      "needs_background": "light"
     },
     "output_type": "display_data"
    }
   ],
   "source": [
    "plt.plot(dataset)\n",
    "plt.show()"
   ]
  },
  {
   "cell_type": "code",
   "execution_count": 6,
   "metadata": {},
   "outputs": [],
   "source": [
    "import math\n",
    "from keras.models import Sequential\n",
    "from keras.layers import Dense\n",
    "from keras.layers import LSTM\n",
    "from sklearn.preprocessing import MinMaxScaler\n",
    "from sklearn.metrics import mean_squared_error"
   ]
  },
  {
   "cell_type": "code",
   "execution_count": 7,
   "metadata": {},
   "outputs": [],
   "source": [
    "# fix random seed for reproducibility\n",
    "np.random.seed(7)"
   ]
  },
  {
   "cell_type": "code",
   "execution_count": 8,
   "metadata": {},
   "outputs": [],
   "source": [
    "dataset = dataset.astype('float32')"
   ]
  },
  {
   "cell_type": "code",
   "execution_count": 9,
   "metadata": {},
   "outputs": [],
   "source": [
    "#LSTMs are sensitive to the scale of the input data, specifically when the sigmoid (default) or tanh activation functions are used.\n",
    "#Normalize the dataset\n",
    "scaler = MinMaxScaler(feature_range=(0, 1))\n",
    "dataset = scaler.fit_transform(dataset)"
   ]
  },
  {
   "cell_type": "code",
   "execution_count": 10,
   "metadata": {},
   "outputs": [
    {
     "name": "stdout",
     "output_type": "stream",
     "text": [
      "108 36\n"
     ]
    }
   ],
   "source": [
    "# split into train and test sets\n",
    "train_size = int(len(dataset) * 0.75)\n",
    "test_size = len(dataset) - train_size\n",
    "train, test = dataset[0:train_size,:], dataset[train_size:len(dataset),:]\n",
    "print(len(train), len(test))"
   ]
  },
  {
   "cell_type": "code",
   "execution_count": 11,
   "metadata": {},
   "outputs": [],
   "source": [
    "# convert an array of values into a dataset matrix\n",
    "def create_dataset(dataset, look_back=1):\n",
    "    dataX, dataY = [], []\n",
    "    for i in range(len(dataset)-look_back-1):\n",
    "        a = dataset[i:(i+look_back), 0]\n",
    "        dataX.append(a)\n",
    "        dataY.append(dataset[i + look_back, 0])\n",
    "    return np.array(dataX), np.array(dataY)"
   ]
  },
  {
   "cell_type": "code",
   "execution_count": 12,
   "metadata": {},
   "outputs": [],
   "source": [
    "# use this function to prepare the train and test datasets for modeling.\n",
    "#reshape into X=t and Y=t+1\n",
    "look_back = 1\n",
    "trainX, trainY = create_dataset(train, look_back)\n",
    "testX, testY = create_dataset(test, look_back)"
   ]
  },
  {
   "cell_type": "code",
   "execution_count": 13,
   "metadata": {},
   "outputs": [],
   "source": [
    "# reshape input to be [samples, time steps, features]\n",
    "trainX = np.reshape(trainX, (trainX.shape[0], 1, trainX.shape[1]))\n",
    "testX = np.reshape(testX, (testX.shape[0], 1, testX.shape[1]))"
   ]
  },
  {
   "cell_type": "code",
   "execution_count": 14,
   "metadata": {},
   "outputs": [
    {
     "name": "stdout",
     "output_type": "stream",
     "text": [
      "Epoch 1/80\n",
      "106/106 - 10s - loss: 0.0573\n",
      "Epoch 2/80\n",
      "106/106 - 0s - loss: 0.0286\n",
      "Epoch 3/80\n",
      "106/106 - 0s - loss: 0.0209\n",
      "Epoch 4/80\n",
      "106/106 - 0s - loss: 0.0186\n",
      "Epoch 5/80\n",
      "106/106 - 0s - loss: 0.0171\n",
      "Epoch 6/80\n",
      "106/106 - 0s - loss: 0.0156\n",
      "Epoch 7/80\n",
      "106/106 - 0s - loss: 0.0140\n",
      "Epoch 8/80\n",
      "106/106 - 0s - loss: 0.0125\n",
      "Epoch 9/80\n",
      "106/106 - 0s - loss: 0.0110\n",
      "Epoch 10/80\n",
      "106/106 - 0s - loss: 0.0095\n",
      "Epoch 11/80\n",
      "106/106 - 0s - loss: 0.0081\n",
      "Epoch 12/80\n",
      "106/106 - 0s - loss: 0.0069\n",
      "Epoch 13/80\n",
      "106/106 - 0s - loss: 0.0059\n",
      "Epoch 14/80\n",
      "106/106 - 0s - loss: 0.0049\n",
      "Epoch 15/80\n",
      "106/106 - 0s - loss: 0.0042\n",
      "Epoch 16/80\n",
      "106/106 - 0s - loss: 0.0036\n",
      "Epoch 17/80\n",
      "106/106 - 0s - loss: 0.0032\n",
      "Epoch 18/80\n",
      "106/106 - 0s - loss: 0.0030\n",
      "Epoch 19/80\n",
      "106/106 - 0s - loss: 0.0028\n",
      "Epoch 20/80\n",
      "106/106 - 0s - loss: 0.0026\n",
      "Epoch 21/80\n",
      "106/106 - 0s - loss: 0.0026\n",
      "Epoch 22/80\n",
      "106/106 - 0s - loss: 0.0026\n",
      "Epoch 23/80\n",
      "106/106 - 0s - loss: 0.0026\n",
      "Epoch 24/80\n",
      "106/106 - 0s - loss: 0.0025\n",
      "Epoch 25/80\n",
      "106/106 - 0s - loss: 0.0025\n",
      "Epoch 26/80\n",
      "106/106 - 0s - loss: 0.0025\n",
      "Epoch 27/80\n",
      "106/106 - 0s - loss: 0.0026\n",
      "Epoch 28/80\n",
      "106/106 - 0s - loss: 0.0026\n",
      "Epoch 29/80\n",
      "106/106 - 0s - loss: 0.0025\n",
      "Epoch 30/80\n",
      "106/106 - 0s - loss: 0.0026\n",
      "Epoch 31/80\n",
      "106/106 - 0s - loss: 0.0025\n",
      "Epoch 32/80\n",
      "106/106 - 0s - loss: 0.0025\n",
      "Epoch 33/80\n",
      "106/106 - 0s - loss: 0.0025\n",
      "Epoch 34/80\n",
      "106/106 - 0s - loss: 0.0026\n",
      "Epoch 35/80\n",
      "106/106 - 0s - loss: 0.0025\n",
      "Epoch 36/80\n",
      "106/106 - 0s - loss: 0.0025\n",
      "Epoch 37/80\n",
      "106/106 - 0s - loss: 0.0025\n",
      "Epoch 38/80\n",
      "106/106 - 0s - loss: 0.0026\n",
      "Epoch 39/80\n",
      "106/106 - 0s - loss: 0.0025\n",
      "Epoch 40/80\n",
      "106/106 - 0s - loss: 0.0026\n",
      "Epoch 41/80\n",
      "106/106 - 0s - loss: 0.0025\n",
      "Epoch 42/80\n",
      "106/106 - 0s - loss: 0.0025\n",
      "Epoch 43/80\n",
      "106/106 - 0s - loss: 0.0025\n",
      "Epoch 44/80\n",
      "106/106 - 0s - loss: 0.0025\n",
      "Epoch 45/80\n",
      "106/106 - 0s - loss: 0.0025\n",
      "Epoch 46/80\n",
      "106/106 - 0s - loss: 0.0025\n",
      "Epoch 47/80\n",
      "106/106 - 0s - loss: 0.0025\n",
      "Epoch 48/80\n",
      "106/106 - 0s - loss: 0.0025\n",
      "Epoch 49/80\n",
      "106/106 - 0s - loss: 0.0024\n",
      "Epoch 50/80\n",
      "106/106 - 0s - loss: 0.0026\n",
      "Epoch 51/80\n",
      "106/106 - 0s - loss: 0.0025\n",
      "Epoch 52/80\n",
      "106/106 - 0s - loss: 0.0025\n",
      "Epoch 53/80\n",
      "106/106 - 0s - loss: 0.0025\n",
      "Epoch 54/80\n",
      "106/106 - 0s - loss: 0.0025\n",
      "Epoch 55/80\n",
      "106/106 - 0s - loss: 0.0025\n",
      "Epoch 56/80\n",
      "106/106 - 0s - loss: 0.0025\n",
      "Epoch 57/80\n",
      "106/106 - 0s - loss: 0.0025\n",
      "Epoch 58/80\n",
      "106/106 - 0s - loss: 0.0026\n",
      "Epoch 59/80\n",
      "106/106 - 0s - loss: 0.0025\n",
      "Epoch 60/80\n",
      "106/106 - 0s - loss: 0.0025\n",
      "Epoch 61/80\n",
      "106/106 - 0s - loss: 0.0025\n",
      "Epoch 62/80\n",
      "106/106 - 0s - loss: 0.0025\n",
      "Epoch 63/80\n",
      "106/106 - 0s - loss: 0.0027\n",
      "Epoch 64/80\n",
      "106/106 - 0s - loss: 0.0025\n",
      "Epoch 65/80\n",
      "106/106 - 0s - loss: 0.0025\n",
      "Epoch 66/80\n",
      "106/106 - 0s - loss: 0.0025\n",
      "Epoch 67/80\n",
      "106/106 - 0s - loss: 0.0025\n",
      "Epoch 68/80\n",
      "106/106 - 0s - loss: 0.0024\n",
      "Epoch 69/80\n",
      "106/106 - 0s - loss: 0.0025\n",
      "Epoch 70/80\n",
      "106/106 - 0s - loss: 0.0026\n",
      "Epoch 71/80\n",
      "106/106 - 0s - loss: 0.0025\n",
      "Epoch 72/80\n",
      "106/106 - 0s - loss: 0.0025\n",
      "Epoch 73/80\n",
      "106/106 - 0s - loss: 0.0025\n",
      "Epoch 74/80\n",
      "106/106 - 0s - loss: 0.0025\n",
      "Epoch 75/80\n",
      "106/106 - 0s - loss: 0.0025\n",
      "Epoch 76/80\n",
      "106/106 - 0s - loss: 0.0025\n",
      "Epoch 77/80\n",
      "106/106 - 0s - loss: 0.0024\n",
      "Epoch 78/80\n",
      "106/106 - 0s - loss: 0.0026\n",
      "Epoch 79/80\n",
      "106/106 - 0s - loss: 0.0025\n",
      "Epoch 80/80\n",
      "106/106 - 0s - loss: 0.0025\n"
     ]
    },
    {
     "data": {
      "text/plain": [
       "<tensorflow.python.keras.callbacks.History at 0x141cb149ee0>"
      ]
     },
     "execution_count": 14,
     "metadata": {},
     "output_type": "execute_result"
    }
   ],
   "source": [
    "# create and fit the LSTM network\n",
    "model = Sequential()\n",
    "model.add(LSTM(4, input_shape=(1, look_back)))\n",
    "model.add(Dense(1))\n",
    "model.compile(loss='mean_squared_error', optimizer='adam')\n",
    "model.fit(trainX, trainY, epochs=80, batch_size=1, verbose=2)"
   ]
  },
  {
   "cell_type": "code",
   "execution_count": 15,
   "metadata": {},
   "outputs": [
    {
     "name": "stdout",
     "output_type": "stream",
     "text": [
      "Train Score: 25.31 RMSE\n",
      "Test Score: 49.93 RMSE\n"
     ]
    }
   ],
   "source": [
    "# make predictions\n",
    "trainPredict = model.predict(trainX)\n",
    "testPredict = model.predict(testX)\n",
    "# invert predictions\n",
    "trainPredict = scaler.inverse_transform(trainPredict)\n",
    "trainY = scaler.inverse_transform([trainY])\n",
    "testPredict = scaler.inverse_transform(testPredict)\n",
    "testY = scaler.inverse_transform([testY])\n",
    "# calculate root mean squared error\n",
    "trainScore = math.sqrt(mean_squared_error(trainY[0], trainPredict[:,0]))\n",
    "print('Train Score: %.2f RMSE' % (trainScore))\n",
    "testScore = math.sqrt(mean_squared_error(testY[0], testPredict[:,0]))\n",
    "print('Test Score: %.2f RMSE' % (testScore))"
   ]
  },
  {
   "cell_type": "code",
   "execution_count": 16,
   "metadata": {},
   "outputs": [
    {
     "data": {
      "image/png": "[encoded data removed]",
      "text/plain": [
       "<Figure size 432x288 with 1 Axes>"
      ]
     },
     "metadata": {
      "needs_background": "light"
     },
     "output_type": "display_data"
    }
   ],
   "source": [
    "# shift train predictions for plotting\n",
    "trainPredictPlot = np.empty_like(dataset)\n",
    "trainPredictPlot[:, :] = np.nan\n",
    "trainPredictPlot[look_back:len(trainPredict)+look_back, :] = trainPredict\n",
    "# shift test predictions for plotting\n",
    "testPredictPlot = np.empty_like(dataset)\n",
    "testPredictPlot[:, :] = np.nan\n",
    "testPredictPlot[len(trainPredict)+(look_back*2)+1:len(dataset)-1, :] = testPredict\n",
    "# plot baseline and predictions\n",
    "plt.plot(scaler.inverse_transform(dataset))\n",
    "plt.plot(trainPredictPlot)\n",
    "plt.plot(testPredictPlot)\n",
    "plt.show()"
   ]
  },
  {
   "cell_type": "code",
   "execution_count": null,
   "metadata": {},
   "outputs": [],
   "source": []
  }
 ],
 "metadata": {
  "kernelspec": {
   "display_name": "Python 3",
   "language": "python",
   "name": "python3"
  },
  "language_info": {
   "codemirror_mode": {
    "name": "ipython",
    "version": 3
   },
   "file_extension": ".py",
   "mimetype": "text/x-python",
   "name": "python",
   "nbconvert_exporter": "python",
   "pygments_lexer": "ipython3",
   "version": "3.8.5"
  }
 },
 "nbformat": 4,
 "nbformat_minor": 4
}
